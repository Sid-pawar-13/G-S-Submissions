{
 "cells": [
  {
   "cell_type": "markdown",
   "metadata": {},
   "source": [
    "Using beautifulsoup, pandas and requests and save the attributes like function name and function usage inside a dataframe then a CSV file. "
   ]
  },
  {
   "cell_type": "code",
   "execution_count": 2,
   "metadata": {},
   "outputs": [],
   "source": [
    "import pandas as pd\n",
    "import requests\n",
    "from bs4 import BeautifulSoup\n",
    "page = requests.get(\"https://docs.python.org/3/library/random.html\")\n",
    "Soup = BeautifulSoup(page.content, \"lxml\")\n",
    "\n",
    "function = []\n",
    "usage = []"
   ]
  },
  {
   "cell_type": "code",
   "execution_count": 3,
   "metadata": {},
   "outputs": [],
   "source": [
    "webpage = Soup.findAll('div', attrs = {'class':'section'})"
   ]
  },
  {
   "cell_type": "code",
   "execution_count": 5,
   "metadata": {},
   "outputs": [],
   "source": [
    "function.clear()\n",
    "usage.clear()\n",
    "for item in webpage:\n",
    "    try:\n",
    "        name = item.find('dt').get_text().replace('¶','').replace('\\n','')\n",
    "        function.append(name)\n",
    "        des = item.find('dd').get_text().replace('\\n','')\n",
    "        usage.append(des)\n",
    "    except:\n",
    "        pass"
   ]
  },
  {
   "cell_type": "code",
   "execution_count": 6,
   "metadata": {},
   "outputs": [
    {
     "data": {
      "text/html": [
       "<div>\n",
       "<style scoped>\n",
       "    .dataframe tbody tr th:only-of-type {\n",
       "        vertical-align: middle;\n",
       "    }\n",
       "\n",
       "    .dataframe tbody tr th {\n",
       "        vertical-align: top;\n",
       "    }\n",
       "\n",
       "    .dataframe thead th {\n",
       "        text-align: right;\n",
       "    }\n",
       "</style>\n",
       "<table border=\"1\" class=\"dataframe\">\n",
       "  <thead>\n",
       "    <tr style=\"text-align: right;\">\n",
       "      <th></th>\n",
       "      <th>Function Name</th>\n",
       "      <th>Function Usage</th>\n",
       "    </tr>\n",
       "  </thead>\n",
       "  <tbody>\n",
       "    <tr>\n",
       "      <th>0</th>\n",
       "      <td>random.seed(a=None, version=2)</td>\n",
       "      <td>Initialize the random number generator.If a is...</td>\n",
       "    </tr>\n",
       "    <tr>\n",
       "      <th>1</th>\n",
       "      <td>random.seed(a=None, version=2)</td>\n",
       "      <td>Initialize the random number generator.If a is...</td>\n",
       "    </tr>\n",
       "    <tr>\n",
       "      <th>2</th>\n",
       "      <td>random.randbytes(n)</td>\n",
       "      <td>Generate n random bytes.This method should not...</td>\n",
       "    </tr>\n",
       "    <tr>\n",
       "      <th>3</th>\n",
       "      <td>random.randrange(stop)</td>\n",
       "      <td>Return a randomly selected element from range(...</td>\n",
       "    </tr>\n",
       "    <tr>\n",
       "      <th>4</th>\n",
       "      <td>random.choice(seq)</td>\n",
       "      <td>Return a random element from the non-empty seq...</td>\n",
       "    </tr>\n",
       "    <tr>\n",
       "      <th>5</th>\n",
       "      <td>random.random()</td>\n",
       "      <td>Return the next random floating point number i...</td>\n",
       "    </tr>\n",
       "    <tr>\n",
       "      <th>6</th>\n",
       "      <td>class random.Random([seed])</td>\n",
       "      <td>Class that implements the default pseudo-rando...</td>\n",
       "    </tr>\n",
       "  </tbody>\n",
       "</table>\n",
       "</div>"
      ],
      "text/plain": [
       "                    Function Name  \\\n",
       "0  random.seed(a=None, version=2)   \n",
       "1  random.seed(a=None, version=2)   \n",
       "2             random.randbytes(n)   \n",
       "3          random.randrange(stop)   \n",
       "4              random.choice(seq)   \n",
       "5                 random.random()   \n",
       "6     class random.Random([seed])   \n",
       "\n",
       "                                      Function Usage  \n",
       "0  Initialize the random number generator.If a is...  \n",
       "1  Initialize the random number generator.If a is...  \n",
       "2  Generate n random bytes.This method should not...  \n",
       "3  Return a randomly selected element from range(...  \n",
       "4  Return a random element from the non-empty seq...  \n",
       "5  Return the next random floating point number i...  \n",
       "6  Class that implements the default pseudo-rando...  "
      ]
     },
     "execution_count": 6,
     "metadata": {},
     "output_type": "execute_result"
    }
   ],
   "source": [
    "df = pd.DataFrame({'Function Name':function,'Function Usage':usage})\n",
    "df"
   ]
  },
  {
   "cell_type": "code",
   "execution_count": 7,
   "metadata": {},
   "outputs": [],
   "source": [
    "df.to_csv(r\"output.csv\",index = False)"
   ]
  },
  {
   "cell_type": "code",
   "execution_count": null,
   "metadata": {},
   "outputs": [],
   "source": []
  }
 ],
 "metadata": {
  "kernelspec": {
   "display_name": "Python 3",
   "language": "python",
   "name": "python3"
  },
  "language_info": {
   "codemirror_mode": {
    "name": "ipython",
    "version": 3
   },
   "file_extension": ".py",
   "mimetype": "text/x-python",
   "name": "python",
   "nbconvert_exporter": "python",
   "pygments_lexer": "ipython3",
   "version": "3.8.7"
  }
 },
 "nbformat": 4,
 "nbformat_minor": 4
}
